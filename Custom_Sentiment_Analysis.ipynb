{
  "nbformat": 4,
  "nbformat_minor": 0,
  "metadata": {
    "colab": {
      "provenance": [],
      "machine_shape": "hm",
      "include_colab_link": true
    },
    "kernelspec": {
      "name": "python3",
      "display_name": "Python 3"
    },
    "language_info": {
      "name": "python"
    },
    "accelerator": "GPU"
  },
  "cells": [
    {
      "cell_type": "markdown",
      "metadata": {
        "id": "view-in-github",
        "colab_type": "text"
      },
      "source": [
        "<a href=\"https://colab.research.google.com/github/ShubhranshuPattnaik/Antenna-Fault-Detection-Dashboard/blob/main/Custom_Sentiment_Analysis.ipynb\" target=\"_parent\"><img src=\"https://colab.research.google.com/assets/colab-badge.svg\" alt=\"Open In Colab\"/></a>"
      ]
    },
    {
      "cell_type": "code",
      "source": [
        "import pandas as pd\n",
        "import tensorflow as tf\n",
        "from transformers import DistilBertTokenizerFast, TFDistilBertForSequenceClassification\n",
        "from sklearn.model_selection import train_test_split\n",
        "from sklearn.metrics import confusion_matrix\n",
        "import gradio as gr"
      ],
      "metadata": {
        "id": "BnqCaQD4WNQM"
      },
      "execution_count": null,
      "outputs": []
    },
    {
      "cell_type": "code",
      "source": [
        "df = pd.read_csv('/content/SMSSpamCollection.txt', sep='\\t', names=[\"label\", \"message\"])\n",
        "X = list(df['message'])\n",
        "y = list(df['label'])\n",
        "y = list(pd.get_dummies(y, drop_first=True)['spam'])\n",
        "\n",
        "X_train, X_test, y_train, y_test = train_test_split(X, y, test_size=0.20, random_state=0)"
      ],
      "metadata": {
        "id": "oM4_PT2eWQ6H"
      },
      "execution_count": null,
      "outputs": []
    },
    {
      "cell_type": "code",
      "source": [
        "!pip install transformers"
      ],
      "metadata": {
        "id": "roIbVEf5WUaH"
      },
      "execution_count": null,
      "outputs": []
    },
    {
      "cell_type": "code",
      "source": [
        "from transformers import DistilBertTokenizerFast, TFDistilBertForSequenceClassification\n",
        "\n",
        "tokenizer = DistilBertTokenizerFast.from_pretrained('distilbert-base-uncased')\n",
        "train_encodings = tokenizer(X_train, truncation=True, padding=True, return_tensors='tf')\n",
        "test_encodings = tokenizer(X_test, truncation=True, padding=True, return_tensors='tf')"
      ],
      "metadata": {
        "id": "EYugpqY_WWcN"
      },
      "execution_count": null,
      "outputs": []
    },
    {
      "cell_type": "code",
      "source": [
        "y_train = tf.convert_to_tensor(y_train)\n",
        "y_test = tf.convert_to_tensor(y_test)"
      ],
      "metadata": {
        "id": "xG-hgKaaWY4M"
      },
      "execution_count": null,
      "outputs": []
    },
    {
      "cell_type": "code",
      "source": [
        "train_dataset = tf.data.Dataset.from_tensor_slices((dict(train_encodings), y_train)).batch(8)\n",
        "test_dataset = tf.data.Dataset.from_tensor_slices((dict(test_encodings), y_test)).batch(16)"
      ],
      "metadata": {
        "id": "IIwv8bxuWb2Y"
      },
      "execution_count": null,
      "outputs": []
    },
    {
      "cell_type": "code",
      "source": [
        "model = TFDistilBertForSequenceClassification.from_pretrained(\"distilbert-base-uncased\")\n",
        "model.compile(optimizer=tf.keras.optimizers.Adam(learning_rate=5e-5),\n",
        "              loss=tf.keras.losses.SparseCategoricalCrossentropy(from_logits=True),\n",
        "              metrics=[tf.keras.metrics.SparseCategoricalAccuracy()])"
      ],
      "metadata": {
        "id": "YYKveS_gWc_h"
      },
      "execution_count": null,
      "outputs": []
    },
    {
      "cell_type": "code",
      "source": [
        "model.fit(train_dataset, epochs=2, batch_size=8)"
      ],
      "metadata": {
        "id": "iMmU88oqWeeB"
      },
      "execution_count": null,
      "outputs": []
    },
    {
      "cell_type": "code",
      "source": [
        "loss, accuracy = model.evaluate(test_dataset)\n",
        "print(f'Loss: {loss}')\n",
        "print(f'Accuracy: {accuracy}')"
      ],
      "metadata": {
        "id": "9nq97Pb3Wfw4"
      },
      "execution_count": null,
      "outputs": []
    },
    {
      "cell_type": "code",
      "source": [
        "predictions = model.predict(test_dataset).logits\n",
        "predicted_classes = tf.argmax(predictions, axis=1)"
      ],
      "metadata": {
        "id": "EhCgaEAsWi9S"
      },
      "execution_count": null,
      "outputs": []
    },
    {
      "cell_type": "code",
      "source": [
        "cm = confusion_matrix(y_test, predicted_classes)\n",
        "print(cm)"
      ],
      "metadata": {
        "id": "OtDDLit6WoKE"
      },
      "execution_count": null,
      "outputs": []
    },
    {
      "cell_type": "code",
      "source": [
        "\n",
        "model.save_pretrained('senti_model')"
      ],
      "metadata": {
        "id": "jYAzc8JSWppI"
      },
      "execution_count": null,
      "outputs": []
    },
    {
      "cell_type": "code",
      "source": [
        "!pip install gradio"
      ],
      "metadata": {
        "id": "-P5ywIfmW5iJ"
      },
      "execution_count": null,
      "outputs": []
    },
    {
      "cell_type": "code",
      "source": [
        "def predict(text):\n",
        "    encodings = tokenizer(text, truncation=True, padding=True, return_tensors='tf')\n",
        "    predictions = model(encodings).logits\n",
        "    predicted_class = tf.argmax(predictions, axis=1).numpy()[0]\n",
        "    return \"Spam\" if predicted_class == 1 else \"Not Spam\"\n",
        "\n",
        "\n",
        "interface = gr.Interface(fn=predict, inputs=\"text\", outputs=\"text\")\n",
        "\n",
        "\n",
        "interface.launch()"
      ],
      "metadata": {
        "id": "FjFGNd8XWrAJ"
      },
      "execution_count": null,
      "outputs": []
    }
  ]
}